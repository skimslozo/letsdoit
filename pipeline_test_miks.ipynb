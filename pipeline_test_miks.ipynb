{
 "cells": [
  {
   "cell_type": "code",
   "execution_count": 1,
   "metadata": {},
   "outputs": [
    {
     "name": "stdout",
     "output_type": "stream",
     "text": [
      "Jupyter environment detected. Enabling Open3D WebVisualizer.\n",
      "[Open3D INFO] WebRTC GUI backend enabled.\n",
      "[Open3D INFO] WebRTCWindowSystem: HTTP handshake server disabled.\n"
     ]
    }
   ],
   "source": [
    "%load_ext autoreload\n",
    "%autoreload 2\n",
    "import os\n",
    "import sys\n",
    "import yaml\n",
    "import warnings\n",
    "\n",
    "cwd = '/teamspace/studios/this_studio/letsdoit'\n",
    "if (cwd not in sys.path):\n",
    "    sys.path.append(cwd)\n",
    "sys.path.append(os.path.dirname(cwd))\n",
    "\n",
    "from pipeline.pipeline import Pipeline\n",
    "warnings.filterwarnings('ignore')"
   ]
  },
  {
   "cell_type": "code",
   "execution_count": 2,
   "metadata": {},
   "outputs": [],
   "source": [
    "path_config = '/teamspace/studios/this_studio/letsdoit/config/config_dev.yml'"
   ]
  },
  {
   "cell_type": "code",
   "execution_count": 3,
   "metadata": {},
   "outputs": [],
   "source": [
    "with open(path_config, 'r') as file:\n",
    "    cfg = yaml.safe_load(file)"
   ]
  },
  {
   "cell_type": "code",
   "execution_count": 4,
   "metadata": {},
   "outputs": [
    {
     "name": "stdout",
     "output_type": "stream",
     "text": [
      "Initializing ClipRetriver...\n",
      "Initializing the MasksFinder...\n",
      "final text_encoder_type: bert-base-uncased\n"
     ]
    },
    {
     "name": "stderr",
     "output_type": "stream",
     "text": [
      "Some weights of the model checkpoint at bert-base-uncased were not used when initializing BertModel: ['cls.seq_relationship.bias', 'cls.predictions.bias', 'cls.predictions.transform.dense.weight', 'cls.predictions.transform.LayerNorm.bias', 'cls.predictions.transform.LayerNorm.weight', 'cls.predictions.transform.dense.bias', 'cls.seq_relationship.weight']\n",
      "- This IS expected if you are initializing BertModel from the checkpoint of a model trained on another task or with another architecture (e.g. initializing a BertForSequenceClassification model from a BertForPreTraining model).\n",
      "- This IS NOT expected if you are initializing BertModel from the checkpoint of a model that you expect to be exactly identical (initializing a BertForSequenceClassification model from a BertForSequenceClassification model).\n"
     ]
    },
    {
     "name": "stdout",
     "output_type": "stream",
     "text": [
      "<All keys matched successfully>\n",
      "Initializing MasksMerger...\n",
      "Initializing ClipModel...\n",
      "Initializing ClipProcessor...\n",
      "Done!\n"
     ]
    }
   ],
   "source": [
    "pipe = Pipeline(**cfg)"
   ]
  },
  {
   "cell_type": "code",
   "execution_count": null,
   "metadata": {},
   "outputs": [
    {
     "name": "stderr",
     "output_type": "stream",
     "text": [
      "Loading rgb frames from visit 420683 and video 42445137:   2%|▎         | 11/440 [00:00<00:21, 19.60it/s]"
     ]
    },
    {
     "name": "stderr",
     "output_type": "stream",
     "text": [
      "Loading rgb frames from visit 420683 and video 42445137: 100%|██████████| 440/440 [00:23<00:00, 19.01it/s]\n",
      "Loading depth frames from visit 420683 and video 42445137:  20%|█▉        | 87/440 [00:02<00:11, 30.85it/s]"
     ]
    }
   ],
   "source": [
    "# action_objects = pipe.run()"
   ]
  },
  {
   "cell_type": "code",
   "execution_count": 10,
   "metadata": {},
   "outputs": [
    {
     "name": "stderr",
     "output_type": "stream",
     "text": [
      "Loading rgb frames from visit 420683 and video 42445132: 100%|██████████| 159/159 [00:00<00:00, 158595.56it/s]\n",
      "Loading rgb frames from visit 420683 and video 42445135: 100%|██████████| 174/174 [00:00<00:00, 131426.06it/s]\n",
      "Loading rgb frames from visit 420683 and video 42445137: 100%|██████████| 440/440 [00:00<00:00, 226858.48it/s]\n",
      "Loading depth frames from visit 420683 and video 42445132: 100%|██████████| 159/159 [00:00<00:00, 149695.70it/s]\n",
      "Loading depth frames from visit 420683 and video 42445135: 100%|██████████| 174/174 [00:00<00:00, 138826.12it/s]\n",
      "Loading depth frames from visit 420683 and video 42445137: 100%|██████████| 440/440 [00:00<00:00, 175493.89it/s]\n"
     ]
    },
    {
     "name": "stdout",
     "output_type": "stream",
     "text": [
      "Extracting objects for 'knob'\n"
     ]
    },
    {
     "name": "stderr",
     "output_type": "stream",
     "text": [
      "Extracting the masks: 100%|██████████| 10/10 [00:19<00:00,  1.97s/it]\n",
      "Merging the object instances: 100%|██████████| 40/40 [00:38<00:00,  1.03it/s]\n",
      "Denoising point clouds: 100%|██████████| 17/17 [00:11<00:00,  1.47it/s]\n"
     ]
    },
    {
     "name": "stdout",
     "output_type": "stream",
     "text": [
      "Extracting objects for 'drawer'\n"
     ]
    },
    {
     "name": "stderr",
     "output_type": "stream",
     "text": [
      "Extracting the masks: 100%|██████████| 10/10 [00:19<00:00,  1.97s/it]\n",
      "Merging the object instances: 100%|██████████| 27/27 [00:30<00:00,  1.13s/it]\n",
      "Denoising point clouds: 100%|██████████| 15/15 [00:03<00:00,  4.24it/s]\n"
     ]
    },
    {
     "name": "stdout",
     "output_type": "stream",
     "text": [
      "Extracting objects for 'nightstand'\n"
     ]
    },
    {
     "name": "stderr",
     "output_type": "stream",
     "text": [
      "Extracting the masks: 100%|██████████| 10/10 [00:19<00:00,  1.97s/it]\n",
      "Merging the object instances: 100%|██████████| 10/10 [00:06<00:00,  1.55it/s]\n",
      "Denoising point clouds: 100%|██████████| 3/3 [00:01<00:00,  2.97it/s]\n"
     ]
    },
    {
     "name": "stdout",
     "output_type": "stream",
     "text": [
      "Extracting objects for 'bed'\n"
     ]
    },
    {
     "name": "stderr",
     "output_type": "stream",
     "text": [
      "Extracting the masks: 100%|██████████| 10/10 [00:12<00:00,  1.23s/it]\n",
      "Merging the object instances: 100%|██████████| 11/11 [00:24<00:00,  2.25s/it]\n",
      "Denoising point clouds: 100%|██████████| 6/6 [00:00<00:00,  8.85it/s]\n"
     ]
    },
    {
     "name": "stdout",
     "output_type": "stream",
     "text": [
      "Extracting objects for 'light switch'\n"
     ]
    },
    {
     "name": "stderr",
     "output_type": "stream",
     "text": [
      "Extracting the masks: 100%|██████████| 10/10 [00:23<00:00,  2.36s/it]\n",
      "Merging the object instances: 100%|██████████| 12/12 [00:10<00:00,  1.13it/s]\n",
      "Denoising point clouds: 100%|██████████| 7/7 [00:04<00:00,  1.63it/s]\n"
     ]
    },
    {
     "name": "stdout",
     "output_type": "stream",
     "text": [
      "Extracting objects for 'door'\n"
     ]
    },
    {
     "name": "stderr",
     "output_type": "stream",
     "text": [
      "Extracting the masks: 100%|██████████| 10/10 [00:15<00:00,  1.57s/it]\n",
      "Merging the object instances: 100%|██████████| 11/11 [00:28<00:00,  2.62s/it]\n",
      "Denoising point clouds: 100%|██████████| 7/7 [00:00<00:00,  8.06it/s]\n"
     ]
    },
    {
     "name": "stdout",
     "output_type": "stream",
     "text": [
      "Extracting objects for 'handle'\n"
     ]
    },
    {
     "name": "stderr",
     "output_type": "stream",
     "text": [
      "Extracting the masks: 100%|██████████| 10/10 [00:16<00:00,  1.66s/it]\n",
      "Merging the object instances: 100%|██████████| 6/6 [00:09<00:00,  1.64s/it]\n",
      "Denoising point clouds: 100%|██████████| 4/4 [00:01<00:00,  2.10it/s]\n"
     ]
    },
    {
     "name": "stdout",
     "output_type": "stream",
     "text": [
      "Extracting objects for 'window'\n"
     ]
    },
    {
     "name": "stderr",
     "output_type": "stream",
     "text": [
      "Extracting the masks: 100%|██████████| 10/10 [00:21<00:00,  2.13s/it]\n",
      "Merging the object instances: 100%|██████████| 16/16 [00:23<00:00,  1.46s/it]\n",
      "Denoising point clouds: 100%|██████████| 11/11 [00:02<00:00,  4.57it/s]\n"
     ]
    },
    {
     "name": "stdout",
     "output_type": "stream",
     "text": [
      "Extracting objects for 'radiator'\n"
     ]
    },
    {
     "name": "stderr",
     "output_type": "stream",
     "text": [
      "Extracting the masks: 100%|██████████| 10/10 [00:17<00:00,  1.77s/it]\n",
      "Merging the object instances: 100%|██████████| 9/9 [00:08<00:00,  1.11it/s]\n",
      "Denoising point clouds: 100%|██████████| 4/4 [00:01<00:00,  3.26it/s]\n"
     ]
    },
    {
     "name": "stdout",
     "output_type": "stream",
     "text": [
      "Extracting objects for 'dresser'\n"
     ]
    },
    {
     "name": "stderr",
     "output_type": "stream",
     "text": [
      "Extracting the masks: 100%|██████████| 10/10 [00:24<00:00,  2.42s/it]\n",
      "Merging the object instances: 100%|██████████| 13/13 [00:11<00:00,  1.17it/s]\n",
      "Denoising point clouds: 100%|██████████| 5/5 [00:01<00:00,  3.54it/s]\n"
     ]
    },
    {
     "name": "stdout",
     "output_type": "stream",
     "text": [
      "Extracting objects for 'socket'\n"
     ]
    },
    {
     "name": "stderr",
     "output_type": "stream",
     "text": [
      "Extracting the masks: 100%|██████████| 10/10 [00:17<00:00,  1.70s/it]\n",
      "Merging the object instances: 100%|██████████| 20/20 [00:30<00:00,  1.52s/it]\n",
      "Denoising point clouds: 100%|██████████| 11/11 [00:06<00:00,  1.58it/s]\n"
     ]
    },
    {
     "name": "stdout",
     "output_type": "stream",
     "text": [
      "Extracting objects for 'device'\n"
     ]
    },
    {
     "name": "stderr",
     "output_type": "stream",
     "text": [
      "Extracting the masks: 100%|██████████| 10/10 [00:17<00:00,  1.78s/it]\n",
      "Merging the object instances: 100%|██████████| 18/18 [00:20<00:00,  1.12s/it]\n",
      "Denoising point clouds: 100%|██████████| 11/11 [00:06<00:00,  1.66it/s]\n"
     ]
    }
   ],
   "source": [
    "# Debug\n",
    "visit_id = '420683'\n",
    "instruction_block = [ib for ib in pipe.instruction_list if ib['visit_id']==visit_id][0]\n",
    "visit_id = str(instruction_block['visit_id'])\n",
    "desc_id = 'a2645cef-a1a7-4130-a26a-3863f9c9dff4'\n",
    "ins = [i for i in instruction_block['instructions'] if i['desc_id']==desc_id][0]\n",
    "visit_id = str(instruction_block['visit_id'])\n",
    "\n",
    "# load the point cloud\n",
    "pipe.pcd = pipe.loader.load_pcd(visit_id)\n",
    "# load image_paths, poses, depth_paths, etc.\n",
    "dict_data = pipe._load_data(visit_id)\n",
    "# load image_features\n",
    "image_features_path = pipe.loader.get_image_features_path(visit_id)\n",
    "pipe.retriever.update_image_features(image_features_path) \n",
    "\n",
    "object_labels = instruction_block['all_objects']\n",
    "instructions = instruction_block['instructions']\n",
    "\n",
    "objects = []\n",
    "for object_label in object_labels:\n",
    "    print(f\"Extracting objects for '{object_label}'\")\n",
    "    objects.extend(pipe._get_objects_3d(object_label, dict_data))"
   ]
  },
  {
   "cell_type": "code",
   "execution_count": 25,
   "metadata": {},
   "outputs": [
    {
     "data": {
      "text/plain": [
       "[0,\n",
       " 5,\n",
       " 6,\n",
       " 7,\n",
       " 8,\n",
       " 9,\n",
       " 10,\n",
       " 11,\n",
       " 13,\n",
       " 14,\n",
       " 15,\n",
       " 16,\n",
       " 17,\n",
       " 18,\n",
       " 32,\n",
       " 41,\n",
       " 42,\n",
       " 43,\n",
       " 45,\n",
       " 46,\n",
       " 47,\n",
       " 52,\n",
       " 56,\n",
       " 58,\n",
       " 59,\n",
       " 62,\n",
       " 64,\n",
       " 65,\n",
       " 67,\n",
       " 68,\n",
       " 69,\n",
       " 70,\n",
       " 72,\n",
       " 73,\n",
       " 80,\n",
       " 81,\n",
       " 82,\n",
       " 83,\n",
       " 84,\n",
       " 85,\n",
       " 86,\n",
       " 87,\n",
       " 89,\n",
       " 92,\n",
       " 93,\n",
       " 95,\n",
       " 96,\n",
       " 98,\n",
       " 99]"
      ]
     },
     "execution_count": 25,
     "metadata": {},
     "output_type": "execute_result"
    }
   ],
   "source": [
    "empty_mask_idx = [i for i in range(len(objects)) if objects[i].pcd_mask.sum()==0]"
   ]
  },
  {
   "cell_type": "code",
   "execution_count": null,
   "metadata": {},
   "outputs": [],
   "source": []
  },
  {
   "cell_type": "code",
   "execution_count": null,
   "metadata": {},
   "outputs": [],
   "source": []
  }
 ],
 "metadata": {
  "kernelspec": {
   "display_name": "cloudspace",
   "language": "python",
   "name": "python3"
  },
  "language_info": {
   "codemirror_mode": {
    "name": "ipython",
    "version": 3
   },
   "file_extension": ".py",
   "mimetype": "text/x-python",
   "name": "python",
   "nbconvert_exporter": "python",
   "pygments_lexer": "ipython3",
   "version": "3.10.10"
  }
 },
 "nbformat": 4,
 "nbformat_minor": 2
}
