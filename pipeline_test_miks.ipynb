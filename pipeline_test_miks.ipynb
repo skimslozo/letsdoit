{
 "cells": [
  {
   "cell_type": "code",
   "execution_count": 7,
   "metadata": {},
   "outputs": [
    {
     "name": "stdout",
     "output_type": "stream",
     "text": [
      "The autoreload extension is already loaded. To reload it, use:\n",
      "  %reload_ext autoreload\n"
     ]
    }
   ],
   "source": [
    "%load_ext autoreload\n",
    "%autoreload 2\n",
    "import os\n",
    "import sys\n",
    "import yaml\n",
    "import warnings\n",
    "import numpy as np\n",
    "\n",
    "cwd = '/teamspace/studios/this_studio/letsdoit'\n",
    "if (cwd not in sys.path):\n",
    "    sys.path.append(cwd)\n",
    "sys.path.append(os.path.dirname(cwd))\n",
    "\n",
    "# from utils.misc import plot_point_cloud_and_object\n",
    "# from scipy.spatial import KDTree\n",
    "from pipeline.pipeline import retrieve_best_action_object\n",
    "\n",
    "from pipeline.pipeline import Pipeline\n",
    "warnings.filterwarnings('ignore')"
   ]
  },
  {
   "cell_type": "code",
   "execution_count": 1,
   "metadata": {},
   "outputs": [],
   "source": [
    "path_config = '/teamspace/studios/this_studio/letsdoit/config/config_test.yml'"
   ]
  },
  {
   "cell_type": "code",
   "execution_count": 4,
   "metadata": {},
   "outputs": [],
   "source": [
    "with open(path_config, 'r') as file:\n",
    "    cfg = yaml.safe_load(file)"
   ]
  },
  {
   "cell_type": "code",
   "execution_count": 5,
   "metadata": {},
   "outputs": [
    {
     "name": "stdout",
     "output_type": "stream",
     "text": [
      "Initializing ClipRetriver...\n",
      "Initializing the MasksFinder...\n",
      "final text_encoder_type: bert-base-uncased\n"
     ]
    },
    {
     "name": "stderr",
     "output_type": "stream",
     "text": [
      "Some weights of the model checkpoint at bert-base-uncased were not used when initializing BertModel: ['cls.predictions.transform.dense.bias', 'cls.predictions.transform.LayerNorm.weight', 'cls.predictions.transform.LayerNorm.bias', 'cls.seq_relationship.weight', 'cls.predictions.bias', 'cls.seq_relationship.bias', 'cls.predictions.transform.dense.weight']\n",
      "- This IS expected if you are initializing BertModel from the checkpoint of a model trained on another task or with another architecture (e.g. initializing a BertForSequenceClassification model from a BertForPreTraining model).\n",
      "- This IS NOT expected if you are initializing BertModel from the checkpoint of a model that you expect to be exactly identical (initializing a BertForSequenceClassification model from a BertForSequenceClassification model).\n"
     ]
    },
    {
     "name": "stdout",
     "output_type": "stream",
     "text": [
      "<All keys matched successfully>\n",
      "Initializing MasksMerger...\n",
      "Initializing ClipModel...\n",
      "Initializing ClipProcessor...\n",
      "Done!\n"
     ]
    }
   ],
   "source": [
    "pipe = Pipeline(**cfg)"
   ]
  },
  {
   "cell_type": "code",
   "execution_count": null,
   "metadata": {},
   "outputs": [],
   "source": [
    "# action_objects = pipe.run()"
   ]
  },
  {
   "cell_type": "code",
   "execution_count": 56,
   "metadata": {},
   "outputs": [
    {
     "name": "stderr",
     "output_type": "stream",
     "text": [
      "Loading rgb frames from visit 421380 and video 42445021: 100%|██████████| 139/139 [00:00<00:00, 62094.82it/s]\n",
      "Loading rgb frames from visit 421380 and video 42445022: 100%|██████████| 306/306 [00:00<00:00, 85895.93it/s]\n",
      "Loading rgb frames from visit 421380 and video 42445026: 100%|██████████| 209/209 [00:00<00:00, 87960.02it/s]\n",
      "Loading depth frames from visit 421380 and video 42445021: 100%|██████████| 139/139 [00:00<00:00, 82450.61it/s]\n",
      "Loading depth frames from visit 421380 and video 42445022: 100%|██████████| 306/306 [00:00<00:00, 50900.54it/s]\n",
      "Loading depth frames from visit 421380 and video 42445026: 100%|██████████| 209/209 [00:00<00:00, 47028.41it/s]\n"
     ]
    },
    {
     "name": "stdout",
     "output_type": "stream",
     "text": [
      "Extracting objects for 'knob'\n"
     ]
    },
    {
     "name": "stderr",
     "output_type": "stream",
     "text": [
      "Extracting the masks: 100%|██████████| 10/10 [00:11<00:00,  1.16s/it]\n",
      "Merging the object instances: 100%|██████████| 34/34 [00:22<00:00,  1.48it/s]\n",
      "Denoising point clouds: 100%|██████████| 17/17 [00:07<00:00,  2.21it/s]\n"
     ]
    },
    {
     "name": "stdout",
     "output_type": "stream",
     "text": [
      "Extracting objects for 'drawer'\n"
     ]
    },
    {
     "name": "stderr",
     "output_type": "stream",
     "text": [
      "Extracting the masks: 100%|██████████| 10/10 [00:11<00:00,  1.15s/it]\n",
      "Merging the object instances: 100%|██████████| 25/25 [00:37<00:00,  1.49s/it]\n",
      "Denoising point clouds: 100%|██████████| 20/20 [00:06<00:00,  3.30it/s]\n"
     ]
    },
    {
     "name": "stdout",
     "output_type": "stream",
     "text": [
      "Extracting objects for 'TV stand'\n"
     ]
    },
    {
     "name": "stderr",
     "output_type": "stream",
     "text": [
      "Extracting the masks: 100%|██████████| 10/10 [00:11<00:00,  1.17s/it]\n",
      "Merging the object instances: 100%|██████████| 12/12 [00:16<00:00,  1.37s/it]\n",
      "Denoising point clouds: 100%|██████████| 7/7 [00:01<00:00,  4.29it/s]\n"
     ]
    },
    {
     "name": "stdout",
     "output_type": "stream",
     "text": [
      "Extracting objects for 'TV'\n"
     ]
    },
    {
     "name": "stderr",
     "output_type": "stream",
     "text": [
      "Extracting the masks: 100%|██████████| 10/10 [00:11<00:00,  1.18s/it]\n",
      "Merging the object instances: 100%|██████████| 13/13 [00:17<00:00,  1.36s/it]\n",
      "Denoising point clouds: 100%|██████████| 13/13 [00:03<00:00,  3.60it/s]\n"
     ]
    },
    {
     "name": "stdout",
     "output_type": "stream",
     "text": [
      "Extracting objects for 'white file box'\n"
     ]
    },
    {
     "name": "stderr",
     "output_type": "stream",
     "text": [
      "Extracting the masks: 100%|██████████| 10/10 [00:11<00:00,  1.19s/it]\n",
      "Merging the object instances: 100%|██████████| 22/22 [00:26<00:00,  1.20s/it]\n",
      "Denoising point clouds: 100%|██████████| 14/14 [00:03<00:00,  3.61it/s]\n"
     ]
    },
    {
     "name": "stdout",
     "output_type": "stream",
     "text": [
      "Extracting objects for 'desk'\n"
     ]
    },
    {
     "name": "stderr",
     "output_type": "stream",
     "text": [
      "Extracting the masks: 100%|██████████| 10/10 [00:11<00:00,  1.19s/it]\n",
      "Merging the object instances: 100%|██████████| 10/10 [00:07<00:00,  1.42it/s]\n",
      "Denoising point clouds: 100%|██████████| 5/5 [00:00<00:00,  5.57it/s]\n"
     ]
    },
    {
     "name": "stdout",
     "output_type": "stream",
     "text": [
      "Extracting objects for 'switch'\n"
     ]
    },
    {
     "name": "stderr",
     "output_type": "stream",
     "text": [
      "Extracting the masks: 100%|██████████| 10/10 [00:07<00:00,  1.27it/s]\n",
      "Merging the object instances: 100%|██████████| 7/7 [00:03<00:00,  1.90it/s]\n",
      "Denoising point clouds: 100%|██████████| 6/6 [00:02<00:00,  2.35it/s]\n"
     ]
    },
    {
     "name": "stdout",
     "output_type": "stream",
     "text": [
      "Extracting objects for 'table lamp'\n"
     ]
    },
    {
     "name": "stderr",
     "output_type": "stream",
     "text": [
      "Extracting the masks: 100%|██████████| 10/10 [00:11<00:00,  1.19s/it]\n",
      "Merging the object instances: 100%|██████████| 12/12 [00:05<00:00,  2.03it/s]\n",
      "Denoising point clouds: 100%|██████████| 8/8 [00:02<00:00,  3.04it/s]\n"
     ]
    },
    {
     "name": "stdout",
     "output_type": "stream",
     "text": [
      "Extracting objects for 'handle'\n"
     ]
    },
    {
     "name": "stderr",
     "output_type": "stream",
     "text": [
      "Extracting the masks: 100%|██████████| 10/10 [00:03<00:00,  2.53it/s]\n",
      "Merging the object instances: 100%|██████████| 2/2 [00:00<00:00,  6.71it/s]\n",
      "Denoising point clouds: 100%|██████████| 2/2 [00:00<00:00,  4.07it/s]\n"
     ]
    },
    {
     "name": "stdout",
     "output_type": "stream",
     "text": [
      "Extracting objects for 'window'\n"
     ]
    },
    {
     "name": "stderr",
     "output_type": "stream",
     "text": [
      "Extracting the masks: 100%|██████████| 10/10 [00:11<00:00,  1.20s/it]\n",
      "Merging the object instances: 100%|██████████| 16/16 [00:21<00:00,  1.36s/it]\n",
      "Denoising point clouds: 100%|██████████| 13/13 [00:03<00:00,  4.02it/s]\n"
     ]
    },
    {
     "name": "stdout",
     "output_type": "stream",
     "text": [
      "Extracting objects for 'remote control'\n"
     ]
    },
    {
     "name": "stderr",
     "output_type": "stream",
     "text": [
      "Extracting the masks: 100%|██████████| 10/10 [00:11<00:00,  1.20s/it]\n",
      "Merging the object instances: 100%|██████████| 12/12 [00:08<00:00,  1.36it/s]\n",
      "Denoising point clouds: 100%|██████████| 10/10 [00:04<00:00,  2.42it/s]\n"
     ]
    },
    {
     "name": "stdout",
     "output_type": "stream",
     "text": [
      "Extracting objects for 'button'\n"
     ]
    },
    {
     "name": "stderr",
     "output_type": "stream",
     "text": [
      "Extracting the masks: 100%|██████████| 10/10 [00:12<00:00,  1.20s/it]\n",
      "Merging the object instances: 100%|██████████| 24/24 [00:22<00:00,  1.07it/s]\n",
      "Denoising point clouds: 100%|██████████| 16/16 [00:09<00:00,  1.72it/s]\n"
     ]
    },
    {
     "name": "stdout",
     "output_type": "stream",
     "text": [
      "Extracting objects for 'door'\n"
     ]
    },
    {
     "name": "stderr",
     "output_type": "stream",
     "text": [
      "Extracting the masks: 100%|██████████| 10/10 [00:11<00:00,  1.19s/it]\n",
      "Merging the object instances: 100%|██████████| 14/14 [00:14<00:00,  1.03s/it]\n",
      "Denoising point clouds: 100%|██████████| 10/10 [00:02<00:00,  4.75it/s]\n"
     ]
    },
    {
     "name": "stdout",
     "output_type": "stream",
     "text": [
      "Extracting objects for 'ceiling light'\n"
     ]
    },
    {
     "name": "stderr",
     "output_type": "stream",
     "text": [
      "Extracting the masks: 100%|██████████| 10/10 [00:10<00:00,  1.10s/it]\n",
      "Merging the object instances: 100%|██████████| 13/13 [00:14<00:00,  1.15s/it]\n",
      "Denoising point clouds: 100%|██████████| 13/13 [00:05<00:00,  2.53it/s]\n"
     ]
    },
    {
     "name": "stdout",
     "output_type": "stream",
     "text": [
      "Extracting objects for 'cabinet'\n"
     ]
    },
    {
     "name": "stderr",
     "output_type": "stream",
     "text": [
      "Extracting the masks: 100%|██████████| 10/10 [00:12<00:00,  1.21s/it]\n",
      "Merging the object instances: 100%|██████████| 19/19 [00:19<00:00,  1.04s/it]\n",
      "Denoising point clouds: 100%|██████████| 10/10 [00:02<00:00,  3.44it/s]\n"
     ]
    },
    {
     "name": "stdout",
     "output_type": "stream",
     "text": [
      "Extracting objects for 'ceiling'\n"
     ]
    },
    {
     "name": "stderr",
     "output_type": "stream",
     "text": [
      "Extracting the masks: 100%|██████████| 10/10 [00:12<00:00,  1.20s/it]\n",
      "Merging the object instances: 100%|██████████| 17/17 [00:39<00:00,  2.33s/it]\n",
      "Denoising point clouds: 100%|██████████| 16/16 [00:02<00:00,  6.60it/s]\n"
     ]
    }
   ],
   "source": [
    "# Debug\n",
    "visit_id = '421380'\n",
    "instruction_block = [ib for ib in pipe.instruction_list if str(ib['visit_id'])==visit_id][0]\n",
    "visit_id = str(instruction_block['visit_id'])\n",
    "# desc_id = 'a10e8718-1997-421c-9a67-7fa25deb7200'\n",
    "# ins = [i for i in instruction_block['instructions'] if i['desc_id']==desc_id][0]\n",
    "visit_id = str(instruction_block['visit_id'])\n",
    "\n",
    "# load the point cloud\n",
    "pipe.pcd = pipe.loader.load_pcd(visit_id)\n",
    "# load image_paths, poses, depth_paths, etc.\n",
    "dict_data = pipe._load_data(visit_id)\n",
    "# load image_features\n",
    "image_features_path = pipe.loader.get_image_features_path(visit_id)\n",
    "pipe.retriever.update_image_features(image_features_path) \n",
    "\n",
    "object_labels = instruction_block['all_objects']\n",
    "instructions = instruction_block['instructions']\n",
    "\n",
    "objects = []\n",
    "for object_label in object_labels:\n",
    "    print(f\"Extracting objects for '{object_label}'\")\n",
    "    objs = pipe._get_objects_3d(object_label, dict_data)\n",
    "    if len(objs) > 0:\n",
    "        objects.extend(objs)\n",
    "\n"
   ]
  },
  {
   "cell_type": "code",
   "execution_count": 57,
   "metadata": {},
   "outputs": [],
   "source": [
    "action_objects = []\n",
    "for instruction in instructions:\n",
    "    try:\n",
    "        action_object = retrieve_best_action_object(instruction, objects)\n",
    "    except:\n",
    "        action_object = None\n",
    "\n",
    "    if pipe.path_submission_folder is not None:\n",
    "        pipe._save_instruction_result(visit_id, instruction, [action_object])\n",
    "    action_objects.append(action_object)"
   ]
  }
 ],
 "metadata": {
  "kernelspec": {
   "display_name": "cloudspace",
   "language": "python",
   "name": "python3"
  },
  "language_info": {
   "codemirror_mode": {
    "name": "ipython",
    "version": 3
   },
   "file_extension": ".py",
   "mimetype": "text/x-python",
   "name": "python",
   "nbconvert_exporter": "python",
   "pygments_lexer": "ipython3",
   "version": "3.10.10"
  }
 },
 "nbformat": 4,
 "nbformat_minor": 2
}
