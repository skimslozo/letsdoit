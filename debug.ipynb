{
 "cells": [
  {
   "cell_type": "code",
   "execution_count": 7,
   "metadata": {},
   "outputs": [],
   "source": [
    "import json\n",
    "import plotly.graph_objects as go\n",
    "import numpy as np\n",
    "import open3d as o3d\n",
    "\n",
    "from pathlib import Path\n",
    "\n",
    "from utils.misc import get_instruction\n",
    "\n",
    "SPLIT = 'dev'\n",
    "DATASET_ROOT = Path('/home/miks/dataset')\n",
    "\n",
    "subs = Path('/home/miks/submission_opensun3d_track2')\n",
    "masks_pth = subs / 'predicted_masks'\n",
    "ins_pth = Path('/home/miks/letsdoit/sample_instructions.json')\n",
    "\n",
    "with open(ins_pth, 'rb') as f:\n",
    "    instructions = json.load(f)\n",
    "\n",
    "fig = None\n",
    "\n",
    "def visualize_pointcloud_o3d(pcd, obj, instruction_str):\n",
    "    # Create Open3D PointCloud objects\n",
    "    \n",
    "    obj_pcd = o3d.geometry.PointCloud()\n",
    "    obj_pcd.points = o3d.utility.Vector3dVector(obj)\n",
    "    \n",
    "    # Create colors for obj points (red)\n",
    "    obj_colors = np.array([[1, 0, 0] for _ in range(len(obj))])\n",
    "    obj_pcd.colors = o3d.utility.Vector3dVector(obj_colors)\n",
    "    \n",
    "    # Visualize\n",
    "    o3d.visualization.draw_geometries([pcd, obj_pcd])\n",
    "\n",
    "for mask_pth in masks_pth.glob('*.txt'):\n",
    "    visit_id, desc_id, _ = mask_pth.name.split('_')\n",
    "    instruction_str = get_instruction(instructions, visit_idd, desc_id)\n",
    "    print(instruction_str)\n",
    "    pcd_path = DATASET_ROOT / SPLIT / visit_id / f'{visit_id}_laser_scan.ply'\n",
    "    crop_mask_path = DATASET_ROOT / SPLIT / visit_id / f'{visit_id}_crop_mask.npy'\n",
    "\n",
    "    # Read point cloud\n",
    "    pcd = o3d.io.read_point_cloud(str(pcd_path))\n",
    "    points = np.asarray(pcd.points)\n",
    "    mask_idx = np.loadtxt(mask_pth, dtype=bool)\n",
    "    crop_mask = np.load(crop_mask_path)\n",
    "\n",
    "    obj = points[mask_idx, :]\n",
    "    pcd_cropped = pcd.select_by_index(np.where(crop_mask)[0])\n",
    "    visualize_pointcloud_o3d(pcd_cropped, obj, instruction_str)\n"
   ]
  }
 ],
 "metadata": {
  "kernelspec": {
   "display_name": "cloudspace",
   "language": "python",
   "name": "python3"
  },
  "language_info": {
   "codemirror_mode": {
    "name": "ipython",
    "version": 3
   },
   "file_extension": ".py",
   "mimetype": "text/x-python",
   "name": "python",
   "nbconvert_exporter": "python",
   "pygments_lexer": "ipython3",
   "version": "3.10.10"
  }
 },
 "nbformat": 4,
 "nbformat_minor": 2
}
