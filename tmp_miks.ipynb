{
 "cells": [
  {
   "cell_type": "markdown",
   "metadata": {},
   "source": [
    "### TODOs\n",
    "- Adjust the object scoring function to:\n",
    "    - score directly on the 3DObject class once it is created from Matcher\n",
    "- Write a plotting function for ObjectInstance debugging"
   ]
  },
  {
   "cell_type": "code",
   "execution_count": 1,
   "metadata": {},
   "outputs": [
    {
     "name": "stdout",
     "output_type": "stream",
     "text": [
      "Jupyter environment detected. Enabling Open3D WebVisualizer.\n",
      "[Open3D INFO] WebRTC GUI backend enabled.\n",
      "[Open3D INFO] WebRTCWindowSystem: HTTP handshake server disabled.\n"
     ]
    }
   ],
   "source": [
    "%load_ext autoreload\n",
    "%autoreload 2\n",
    "import sys\n",
    "from pathlib import Path\n",
    "import plotly.io as pio\n",
    "import numpy as np\n",
    "\n",
    "# Ensure Plotly is set up to work with Jupyter notebooks\n",
    "pio.renderers.default = 'notebook'\n",
    "\n",
    "# Hack the path for now, deal with this later\n",
    "cwd = '/teamspace/studios/this_studio/letsdoit'\n",
    "if (cwd not in sys.path):\n",
    "    sys.path.append(cwd)\n",
    "\n",
    "from typing import List\n",
    "from copy import copy\n",
    "from transformers import CLIPProcessor, CLIPModel\n",
    "from masks_finder import MasksFinder, unrotate_masks, unrotate_bboxes\n",
    "from masks_matcher import MasksMatcher\n",
    "from clip_retriever import ClipRetriever\n",
    "from dataloader.dataloader import DataLoader\n",
    "from object_scorer import ObjectScorer\n",
    "from letsdoit.utils.object_instance import ObjectInstance, initialize_object_instances, plot_instances_3d, generate_masks_features\n",
    "from letsdoit.utils.misc import select_ids\n",
    "from letsdoit.scoring.primitive import SpatialPrimitive, SpatialPrimitivePair"
   ]
  },
  {
   "cell_type": "code",
   "execution_count": 2,
   "metadata": {},
   "outputs": [
    {
     "name": "stderr",
     "output_type": "stream",
     "text": [
      "/home/zeus/miniconda3/envs/cloudspace/lib/python3.10/site-packages/huggingface_hub/file_download.py:1132: FutureWarning:\n",
      "\n",
      "`resume_download` is deprecated and will be removed in version 1.0.0. Downloads always resume when possible. If you want to force a new download, use `force_download=True`.\n",
      "\n",
      "/home/zeus/miniconda3/envs/cloudspace/lib/python3.10/site-packages/torch/functional.py:507: UserWarning:\n",
      "\n",
      "torch.meshgrid: in an upcoming release, it will be required to pass the indexing argument. (Triggered internally at ../aten/src/ATen/native/TensorShape.cpp:3549.)\n",
      "\n"
     ]
    },
    {
     "name": "stdout",
     "output_type": "stream",
     "text": [
      "final text_encoder_type: bert-base-uncased\n"
     ]
    },
    {
     "name": "stderr",
     "output_type": "stream",
     "text": [
      "Some weights of the model checkpoint at bert-base-uncased were not used when initializing BertModel: ['cls.predictions.transform.dense.weight', 'cls.seq_relationship.bias', 'cls.predictions.transform.dense.bias', 'cls.seq_relationship.weight', 'cls.predictions.transform.LayerNorm.weight', 'cls.predictions.transform.LayerNorm.bias', 'cls.predictions.bias']\n",
      "- This IS expected if you are initializing BertModel from the checkpoint of a model trained on another task or with another architecture (e.g. initializing a BertForSequenceClassification model from a BertForPreTraining model).\n",
      "- This IS NOT expected if you are initializing BertModel from the checkpoint of a model that you expect to be exactly identical (initializing a BertForSequenceClassification model from a BertForSequenceClassification model).\n"
     ]
    },
    {
     "name": "stdout",
     "output_type": "stream",
     "text": [
      "_IncompatibleKeys(missing_keys=[], unexpected_keys=['label_enc.weight'])\n",
      "<All keys matched successfully>\n"
     ]
    },
    {
     "name": "stderr",
     "output_type": "stream",
     "text": [
      "Loading rgb frames from visit 420683 and video 42445132: 100%|██████████| 159/159 [00:07<00:00, 21.89it/s]\n",
      "Loading depth frames from visit 420683 and video 42445132: 100%|██████████| 159/159 [00:05<00:00, 30.06it/s]\n"
     ]
    }
   ],
   "source": [
    "path_dataset = '/teamspace/studios/this_studio/datasets'\n",
    "ASSET_TYPE = 'wide'\n",
    "loader = DataLoader(path_dataset, split='dev')\n",
    "retriever = ClipRetriever()\n",
    "masks_finder = MasksFinder()\n",
    "clip_model = CLIPModel.from_pretrained(\"openai/clip-vit-base-patch32\")\n",
    "clip_processor = CLIPProcessor.from_pretrained(\"openai/clip-vit-base-patch32\")\n",
    "visit_ids = loader.visit_ids\n",
    "video_ids = loader.get_video_ids(visit_ids[0])\n",
    "\n",
    "visit_id = visit_ids[0]\n",
    "video_id = video_ids[0]\n",
    "# Get both original and upright-rotated images and depths as outputs\n",
    "images, images_rotated, image_paths, intrinsics, poses, orientations = loader.get_images(visit_id, video_id, asset_type=ASSET_TYPE, sample_freq=1)\n",
    "depths, depths_rotated, depth_paths, _, _, _ = loader.get_depths(visit_id, video_id, asset_type=ASSET_TYPE, sample_freq=1)\n",
    "# Retriever receives upright-rotatead images as inputs\n",
    "retriever.generate_image_features(images_rotated)"
   ]
  },
  {
   "cell_type": "code",
   "execution_count": 3,
   "metadata": {},
   "outputs": [],
   "source": [
    "# For an object, get a list of corresponding ObjectInstances\n",
    "def get_object_instances(object: str) -> List[ObjectInstance]:\n",
    "    best_indices = retriever.retrieve_best_images_for_object(object)\n",
    "    best_images = select_ids(images, best_indices)\n",
    "    best_images_rotated = select_ids(images_rotated, best_indices)\n",
    "    best_image_paths = select_ids(image_paths, best_indices)\n",
    "    best_intrinsics = select_ids(intrinsics, best_indices)\n",
    "    best_poses = select_ids(poses, best_indices)\n",
    "    best_orientations = select_ids(orientations, best_indices)\n",
    "    best_depths = select_ids(depths, best_indices)\n",
    "    best_depth_paths = select_ids(depth_paths, best_indices)\n",
    "    # Masks we get here as outputs are for the upright-rotated images\n",
    "    image_ids, masks, bboxes, confidences, labels = masks_finder.get_masks_from_imgs(best_images_rotated, object)\n",
    "    # Rotate masks and bboxes back to the rotation of the original image\n",
    "    mask_image_sizes = [best_images_rotated[idx].shape[:-1] for idx in image_ids]\n",
    "    mask_image_orientations = [best_orientations[idx] for idx in image_ids]\n",
    "    masks_unrotated = unrotate_masks(masks=masks, orientations=orientations)\n",
    "    bboxes_unrotated = unrotate_bboxes(bboxes=bboxes, img_dims=mask_image_sizes, orientations=mask_image_orientations)\n",
    "    # Marco's addition?\n",
    "    image_features = generate_masks_features(clip_processor, clip_model, select_ids(best_images_rotated, image_ids), bboxes, masks)\n",
    "    dict_object_instances = {'images': select_ids(best_images, image_ids),\n",
    "                         'image_names': [Path(img_path).name.replace('.png', '') for img_path in best_image_paths],\n",
    "                         'depths': select_ids(best_depths, image_ids),\n",
    "                         'bboxes': bboxes_unrotated,\n",
    "                         'masks': masks_unrotated,\n",
    "                         'labels': labels,\n",
    "                         'confidences': confidences,\n",
    "                         'intrinsics': select_ids(best_intrinsics, image_ids),\n",
    "                         'extrinsics': select_ids(best_poses, image_ids),\n",
    "                         'orientations': select_ids(best_orientations, image_ids),\n",
    "                         'image_features': image_features,\n",
    "    }\n",
    "\n",
    "    object_instances = initialize_object_instances(**dict_object_instances)\n",
    "\n",
    "    return object_instances"
   ]
  },
  {
   "cell_type": "code",
   "execution_count": 4,
   "metadata": {},
   "outputs": [
    {
     "name": "stderr",
     "output_type": "stream",
     "text": [
      "  0%|          | 0/10 [00:00<?, ?it/s]/home/zeus/miniconda3/envs/cloudspace/lib/python3.10/site-packages/transformers/modeling_utils.py:768: FutureWarning:\n",
      "\n",
      "The `device` argument is deprecated and will be removed in v5 of Transformers.\n",
      "\n",
      "/home/zeus/miniconda3/envs/cloudspace/lib/python3.10/site-packages/torch/utils/checkpoint.py:460: UserWarning:\n",
      "\n",
      "torch.utils.checkpoint: please pass in use_reentrant=True or use_reentrant=False explicitly. The default value of use_reentrant will be updated to be False in the future. To maintain current behavior, pass use_reentrant=True. It is recommended that you use use_reentrant=False. Refer to docs for more details on the differences between the two variants.\n",
      "\n",
      "/home/zeus/miniconda3/envs/cloudspace/lib/python3.10/site-packages/torch/utils/checkpoint.py:90: UserWarning:\n",
      "\n",
      "None of the inputs have requires_grad=True. Gradients will be None\n",
      "\n",
      "100%|██████████| 10/10 [00:12<00:00,  1.22s/it]\n"
     ]
    }
   ],
   "source": [
    "# Get drawers\n",
    "drawers = get_object_instances('drawer')\n",
    "# # Get beds\n",
    "# beds = get_object_instances('bed')\n",
    "# # Get nightstands\n",
    "# nightstands = get_object_instances('nightstand')"
   ]
  },
  {
   "cell_type": "code",
   "execution_count": 5,
   "metadata": {},
   "outputs": [],
   "source": [
    "t = drawers[5]\n",
    "t.label='reference_2'\n",
    "r1 = drawers[3]\n",
    "r1.label='reference_1'\n",
    "r2 = drawers[4]\n",
    "r2.label='target'"
   ]
  },
  {
   "cell_type": "code",
   "execution_count": 6,
   "metadata": {},
   "outputs": [],
   "source": [
    "prim = SpatialPrimitive.BETWEEN\n",
    "spp = SpatialPrimitivePair(target=r2, reference=t, reference_2=t, primitive=prim)"
   ]
  },
  {
   "cell_type": "code",
   "execution_count": 7,
   "metadata": {},
   "outputs": [
    {
     "data": {
      "text/plain": [
       "1"
      ]
     },
     "execution_count": 7,
     "metadata": {},
     "output_type": "execute_result"
    }
   ],
   "source": [
    "spp.get_score()"
   ]
  },
  {
   "cell_type": "code",
   "execution_count": null,
   "metadata": {},
   "outputs": [],
   "source": [
    "plot_instances_3d([t, r1, r2])"
   ]
  },
  {
   "cell_type": "code",
   "execution_count": null,
   "metadata": {},
   "outputs": [],
   "source": []
  }
 ],
 "metadata": {
  "kernelspec": {
   "display_name": "cloudspace",
   "language": "python",
   "name": "python3"
  },
  "language_info": {
   "codemirror_mode": {
    "name": "ipython",
    "version": 3
   },
   "file_extension": ".py",
   "mimetype": "text/x-python",
   "name": "python",
   "nbconvert_exporter": "python",
   "pygments_lexer": "ipython3",
   "version": "3.10.10"
  }
 },
 "nbformat": 4,
 "nbformat_minor": 2
}
